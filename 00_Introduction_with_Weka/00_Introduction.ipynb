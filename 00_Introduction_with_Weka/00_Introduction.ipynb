{
 "cells": [
  {
   "cell_type": "markdown",
   "id": "4a186ede",
   "metadata": {},
   "source": [
    "## 00 - Introduction \n",
    "\n",
    "September 16, 2025"
   ]
  },
  {
   "cell_type": "markdown",
   "id": "e692aa2d",
   "metadata": {},
   "source": [
    "\n",
    "### Content\n",
    "\n",
    "- What is data mining\n",
    "- Where it can be applied\n",
    "- Tasks and Data Mining Algorithms\n",
    "- Supervised and Unsupervised Tasks\n"
   ]
  },
  {
   "cell_type": "markdown",
   "id": "c31bbc66",
   "metadata": {},
   "source": [
    "### Data Mining\n",
    "\n",
    "It is a process to explore and analyse large volumes of data in search of patterns, predictions, errors and associations.\n",
    "\n",
    "Data mining is normally associated to machine learning, an area of artificial intelligence that develops algorithms capable of making computer learn from the past using data from events that have already occurred."
   ]
  },
  {
   "cell_type": "markdown",
   "id": "9bf03d03",
   "metadata": {},
   "source": [
    "### Data Mining Process\n",
    "\n",
    "One of the steps of the Knowledge Discovery in Databases (KDD)\n",
    "\n",
    "**1. Preprocessing:** First, clean and prepare the raw data.\n",
    "\n",
    "**2. Execution of Mining Task:** Apply an algorithm to find patterns in the prepared data.\n",
    "\n",
    "**3. Evaluation:** Check the results to see if they are accurate and useful.\n",
    "\n",
    "Based on the evaluation, the process is cyclical:\n",
    "- If the results are poor, you may need to go back to the **Preprocessing** step to clean the data differently.\n",
    "- Or, you might return to the **Mining Task** step to adjust the algorithm's settings.\n",
    "\n",
    "Repeat this cycle until the results are satisfactory, at which point the process ends."
   ]
  },
  {
   "cell_type": "markdown",
   "id": "7d7ab30c",
   "metadata": {},
   "source": [
    "### Data Mining Applications\n",
    "\n",
    "**Marketing**\n",
    "\n",
    "- Which custumers will respond to which promotions?\n",
    "- Which combinations of products are the best-selling?\n",
    "- Which custumers will buy even without promotions?\n",
    "- Identification of alpha consumers\n",
    "- Churn analysis: Which clients tend to leave the company?\n",
    "\n",
    "**Education:**\n",
    "\n",
    "- Which students will drop out of the course and why?\n",
    "- Which students are more loyal?\n",
    "- Which students are more likely to return for new courses?\n",
    "- Which courses will be more profitable?\n",
    "- Which courses, with which characteristics, attract the most students?\n",
    "\n",
    "**Human Resources:**\n",
    "\n",
    "- Which talent profiles best fit which job opening?\n",
    "- What is the profile of employees who will leave the job and when?\n",
    "- Which action are effective for productivity?\n",
    "- Which employees will be more successful?\n",
    "\n",
    "**Finances**\n",
    "\n",
    "- Predict the organization's financial performance\n",
    "- Mitigation of future risks\n",
    "- Suppoort in choosing investments and partners"
   ]
  },
  {
   "cell_type": "markdown",
   "id": "7697ffff",
   "metadata": {},
   "source": [
    "### Class, a special attribute\n",
    "\n",
    "The most common machine learning task is classification. We will study classification in more detail in several subsequent chapters and sections, but what you need to understand for now is that in classification, there is a special attribute called **class**: the objective is to use all the attributes that make up the relation to try to predict the class.\n",
    "\n",
    "Normally, the class is the last attribute. Weka will consider by default that the class is in this position; however, it is possible to specify if it is in a different position."
   ]
  },
  {
   "cell_type": "markdown",
   "id": "7891488a",
   "metadata": {},
   "source": [
    "### Tasks and Algorithms\n",
    "\n",
    "A task is a type of datamining process that has a specifc objective. Each type of task can have many - or even dozens - of different implementations through different algoriithms. All algorithms belonging to the same task share the same objective.\n",
    "\n",
    "For example, Naiva Bayes is a classification algorithm, just like Decision Trees, which are implemented using completely different concepts and structures. However, their objective is the same: to classify data.\n",
    "\n",
    "| Task | Algorithm Type | Algorithm |\n",
    "| :--- | :--- | :--- |\n",
    "| Classification | Tree | J48, C4.5 |\n",
    "| Classification | Bayes | Naive Bayes |\n",
    "| Classification | Instance-based | K-NN |\n",
    "| Regression | Linear regression | Linear regression with least squares |\n",
    "| Clustering | Density-based | DBSCAN |\n",
    "| Clustering | Centroid-based | K-means |\n",
    "| Clustering | Hierarchical | AGNES, DIANA |\n",
    "| Association rule extraction | Subset frequency | Apriori |"
   ]
  },
  {
   "cell_type": "markdown",
   "id": "95dbae4b",
   "metadata": {},
   "source": [
    "### Supervised x Unsupervised\n",
    "\n",
    "Data mining tasks are called supervised when there is a class or a special attribute that can be used to compare and validate the results. Classification is a supervised task.\n",
    "\n",
    "An unsupervised task, on the other hand, is one in which there is no class and no predefined label. Clustering is an example of an unsupervised task."
   ]
  },
  {
   "cell_type": "markdown",
   "id": "941768eb",
   "metadata": {},
   "source": [
    "### Tasks in Data mining\n",
    "\n",
    "- **Supervised**\n",
    "\n",
    "  - **Classification** \n",
    "    - Predicting a Category/Class\n",
    "  \n",
    "  - **Regression**\n",
    "    - Predicting a Numerical Value\n",
    "\n",
    "- **Unsupervised**\n",
    "  - **Clustering**\n",
    "    - Finding natural groups in the data\n",
    "\n",
    "  - **Association rule extraction**\n",
    "    - Finding items that co-occur\n"
   ]
  },
  {
   "cell_type": "markdown",
   "id": "00b58b1b",
   "metadata": {},
   "source": []
  },
  {
   "cell_type": "markdown",
   "id": "3d56c795",
   "metadata": {},
   "source": [
    "### Classification\n",
    "\n",
    "In classification, we want to describe or predict a specific aattribute called the class.\n",
    "\n",
    "This task can be understood as the search for a function that correctly associates each record record \n",
    "𝑋𝑖 in a dataset with a single categorical label 𝑌𝑗, called the class.\n",
    "\n",
    "Once identified, this function can be applied to new records to predict the class they belong to."
   ]
  },
  {
   "cell_type": "markdown",
   "id": "6946e3d6",
   "metadata": {},
   "source": [
    "### Linear Regression\n",
    "\n",
    "A mathematical model that describes the relationship between variables using a linear function.\n",
    "\n",
    "More specifically, it is used to predict the value of dependent variable based on the values of independent variables.\n",
    "\n",
    "- Examples\n",
    "  - To predict the quantity of sales basedd on the cost of advertising.\n",
    "  - To predict patients blood pressure from the dose of medication.\n",
    "  - To predict the crop yield based on the amount of fertilizer applied and the amount of rainfall."
   ]
  },
  {
   "cell_type": "markdown",
   "id": "5115b85c",
   "metadata": {},
   "source": [
    "### Clustering\n",
    "\n",
    "In clustering, there is no class. The objective is to create groups and assign instances to these groups based on their feature or attributes."
   ]
  },
  {
   "cell_type": "markdown",
   "id": "b477c856",
   "metadata": {},
   "source": [
    "### Association rule extraction\n",
    "\n",
    "The extraction of association rules searches for relationships between items.\n",
    "\n",
    "A classical application is shopping carts: for example, customer who boought product A also bought product B. However, association rules also have wide application in medicine, surveys, and other areas. They can also be used to identify causes or sets of factor that lead to the occurrence of a fact or phenomenon."
   ]
  }
 ],
 "metadata": {
  "language_info": {
   "name": "python"
  }
 },
 "nbformat": 4,
 "nbformat_minor": 5
}
