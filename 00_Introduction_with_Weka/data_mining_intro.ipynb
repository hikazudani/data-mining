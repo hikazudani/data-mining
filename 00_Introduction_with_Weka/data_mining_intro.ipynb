{
 "cells": [
  {
   "cell_type": "markdown",
   "id": "cd962ad3",
   "metadata": {},
   "source": [
    "# Part 1"
   ]
  },
  {
   "cell_type": "markdown",
   "id": "4c4e7b60",
   "metadata": {},
   "source": [
    "## 00 - Introduction \n",
    "\n",
    "September 16, 2025"
   ]
  },
  {
   "cell_type": "markdown",
   "id": "0e2e2b87",
   "metadata": {},
   "source": [
    "\n",
    "### Content\n",
    "\n",
    "- What is data mining\n",
    "- Where it can be applied\n",
    "- Tasks and Data Mining Algorithms\n",
    "- Supervised and Unsupervised Tasks\n"
   ]
  },
  {
   "cell_type": "markdown",
   "id": "91daf472",
   "metadata": {},
   "source": [
    "### Data Mining\n",
    "\n",
    "It is a process to explore and analyse large volumes of data in search of patterns, predictions, errors and associations.\n",
    "\n",
    "Data mining is normally associated to machine learning, an area of artificial intelligence that develops algorithms capable of making computer learn from the past using data from events that have already occurred."
   ]
  },
  {
   "cell_type": "markdown",
   "id": "f4861465",
   "metadata": {},
   "source": [
    "### Data Mining Process\n",
    "\n",
    "One of the steps of the Knowledge Discovery in Databases (KDD)\n",
    "\n",
    "**1. Preprocessing:** First, clean and prepare the raw data.\n",
    "\n",
    "**2. Execution of Mining Task:** Apply an algorithm to find patterns in the prepared data.\n",
    "\n",
    "**3. Evaluation:** Check the results to see if they are accurate and useful.\n",
    "\n",
    "Based on the evaluation, the process is cyclical:\n",
    "- If the results are poor, you may need to go back to the **Preprocessing** step to clean the data differently.\n",
    "- Or, you might return to the **Mining Task** step tp adjust the algorithm's settings.\n",
    "\n",
    "Repeat this cycle until the results are satisfactory, at which point the process ends."
   ]
  },
  {
   "cell_type": "markdown",
   "id": "24577114",
   "metadata": {},
   "source": [
    "### Data Mining Applications\n",
    "\n",
    "**Marketing**\n",
    "\n",
    "- Which custumers will respond to which promotions?\n",
    "- Which combinations of products are the best-selling?\n",
    "- Which custumers will buy even without promotions?\n",
    "- Identification of alpha consumers\n",
    "- Churn analysis: Which clients tend to leave the company?\n",
    "\n",
    "**Education:**\n",
    "\n",
    "- Which students will drop out of the course and why?\n",
    "- Which students are more loyal?\n",
    "- Which students are more likely to return for new courses?\n",
    "- Which courses will be more profitable?\n",
    "- Which courses, with which characteristics, attract the most students?\n",
    "\n",
    "**Human Resources:**\n",
    "\n",
    "- Which talent profiles best fit which job opening?\n",
    "- What is the profile of employees who will leave the job and when?\n",
    "- Which action are effective for productivity?\n",
    "- Which employees will be more successful?\n",
    "\n",
    "**Finances**\n",
    "\n",
    "- Predict the organization's financial performance\n",
    "- Mitigation of future risks\n",
    "- Suppoort in choosing investments and partners"
   ]
  },
  {
   "cell_type": "markdown",
   "id": "dec184fc",
   "metadata": {},
   "source": [
    "### Class, a special attribute\n",
    "\n",
    "The most common machine learning task is classification. We will study classification in more detail in several subsequent chapters and sections, but what you need to understand for now is that in classification, there is a special attribute called **class**: the objective is to use all the attributes that make up the relation to try to predict the class.\n",
    "\n",
    "Normally, the class is the last attribute. Weka will consider by default that the class is in this position; however, it is possible to specify if it is in a different position."
   ]
  },
  {
   "cell_type": "markdown",
   "id": "21b55d0c",
   "metadata": {},
   "source": [
    "### Tasks in Data mining\n",
    "\n",
    "- Classification\n",
    "- Regression\n",
    "- Clustering\n",
    "- Association rule extraction\n"
   ]
  },
  {
   "cell_type": "markdown",
   "id": "f82f06f4",
   "metadata": {},
   "source": [
    "### Classification"
   ]
  },
  {
   "cell_type": "markdown",
   "id": "98332391",
   "metadata": {},
   "source": [
    "### Regression"
   ]
  },
  {
   "cell_type": "markdown",
   "id": "0f6a1161",
   "metadata": {},
   "source": [
    "### Clustering"
   ]
  },
  {
   "cell_type": "markdown",
   "id": "8b6bd2bf",
   "metadata": {},
   "source": [
    "### Association rule extraction"
   ]
  },
  {
   "cell_type": "markdown",
   "id": "0b369ad2",
   "metadata": {},
   "source": [
    "### Supervised x Unsupervised"
   ]
  },
  {
   "cell_type": "markdown",
   "id": "140b2345",
   "metadata": {},
   "source": [
    "### Tasks and Data Mining Algorithms"
   ]
  },
  {
   "cell_type": "markdown",
   "id": "f784f8c0",
   "metadata": {},
   "source": [
    "## 01 - Data Classification\n",
    "\n",
    "September 18, 2025"
   ]
  },
  {
   "cell_type": "markdown",
   "id": "7c61c594",
   "metadata": {},
   "source": [
    "## 02 - Data Classification in Weka\n",
    "\n",
    "September 23, 2025"
   ]
  },
  {
   "cell_type": "markdown",
   "id": "596682a8",
   "metadata": {},
   "source": [
    "## 03 - Activity: Data Classification\n",
    "\n",
    "September 25, 2025"
   ]
  },
  {
   "cell_type": "markdown",
   "id": "b4704b1f",
   "metadata": {},
   "source": [
    "## 04 - Decision Trees\n",
    "\n",
    "September 30, 2025"
   ]
  },
  {
   "cell_type": "markdown",
   "id": "b43a4471",
   "metadata": {},
   "source": [
    "## 05 - Activity: Decision Trees\n",
    "\n",
    "October 02, 2025"
   ]
  },
  {
   "cell_type": "markdown",
   "id": "1c2a3b6c",
   "metadata": {},
   "source": [
    "## 06 - Naive Bayes Classifier\n",
    "\n",
    "October 09, 2025"
   ]
  },
  {
   "cell_type": "markdown",
   "id": "c317a107",
   "metadata": {},
   "source": [
    "\n",
    "## 07 - K-Nearest Neighbors\n",
    "\n",
    "October 14, 2025"
   ]
  },
  {
   "cell_type": "markdown",
   "id": "c249306f",
   "metadata": {},
   "source": [
    "## 08 - Linear Regression\n",
    "\n",
    "October 16, 2025"
   ]
  },
  {
   "cell_type": "markdown",
   "id": "b45c8c85",
   "metadata": {},
   "source": [
    "## 09 - Logistic Regression\n",
    "\n",
    "October 21, 2025"
   ]
  },
  {
   "cell_type": "markdown",
   "id": "04ed2246",
   "metadata": {},
   "source": [
    "# Part 2"
   ]
  },
  {
   "cell_type": "markdown",
   "id": "47f4a75f",
   "metadata": {},
   "source": [
    "# Part 3"
   ]
  }
 ],
 "metadata": {
  "kernelspec": {
   "display_name": "GPU_support",
   "language": "python",
   "name": "python3"
  },
  "language_info": {
   "codemirror_mode": {
    "name": "ipython",
    "version": 3
   },
   "file_extension": ".py",
   "mimetype": "text/x-python",
   "name": "python",
   "nbconvert_exporter": "python",
   "pygments_lexer": "ipython3",
   "version": "3.13.5"
  }
 },
 "nbformat": 4,
 "nbformat_minor": 5
}
