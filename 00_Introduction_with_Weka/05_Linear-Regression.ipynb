{
 "cells": [
  {
   "cell_type": "markdown",
   "id": "896424be",
   "metadata": {},
   "source": [
    "### Summary of Linear Regression\n",
    "\n",
    "Linear regression is a statistical analysis technique used to model the relationship between a dependent (response) variable, $y$, and an independent (predictor) variable, $x$. The model assumes this relationship can be estimated by a straight line, which, for a single predictor variable, is defined by the equation:\n",
    "\n",
    "$$y = a + bx$$\n",
    "\n",
    "Here, *a* and *b* are the regression coefficients, representing the y-intercept and the line's slope, respectively.\n",
    "\n",
    "#### Finding the Best Fit\n",
    "\n",
    "To solve a regression task, the values for the coefficients (*a* and *b*) must be found so that the line best fits the data. A common method for this is the **method of least squares**, which minimizes the error between the actual data points and the values estimated by the regression line.\n",
    "\n",
    "The coefficients can be calculated using the following equations:\n",
    "\n",
    "$$b = \\frac{\\sum_{i=1}^{n}(x_{i}-\\mu_{x})(y_{i}-\\mu_{y})}{\\sum_{i=1}^{n}(x_{i}-\\mu_{x})^{2}}$$\n",
    "\n",
    "$$a = \\mu_{y} - b\\mu_{x}$$\n",
    "\n",
    "In these equations, $\\mu_{x}$ is the mean of the independent variable, $\\mu_{y}$ is the mean of the dependent variable, and $n$ is the number of data points.\n",
    "\n",
    "#### Application Example\n",
    "\n",
    "A didactic example is provided where a restaurant owner wants to estimate the effect of radio advertising on the sale of a specific dish.\n",
    "* **Independent Variable ($x$):** Number of ad insertions.\n",
    "* **Dependent Variable ($y$):** Number of dishes sold.\n",
    "\n",
    "Using the provided dataset and the method of least squares, the intermediate calculations (like $(x_i - \\mu_x)$ and $(y_i - \\mu_y)$ for each data point) are performed.\n",
    "\n",
    "The final calculated coefficients are $b = 9.62$ and $a = 117.38$. This results in the linear model:\n",
    "\n",
    "$$y = 117.38 + 9.62x$$\n",
    "\n",
    "This model can now be used for estimation. For example, if the owner decides to run 50 ad insertions, the estimated number of dishes sold would be approximately $117.38 + 9.62 \\times 50 \\approx 598$."
   ]
  }
 ],
 "metadata": {
  "language_info": {
   "name": "python"
  }
 },
 "nbformat": 4,
 "nbformat_minor": 5
}
