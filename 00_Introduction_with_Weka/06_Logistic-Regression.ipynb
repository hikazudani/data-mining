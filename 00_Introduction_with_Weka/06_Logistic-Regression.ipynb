{
 "cells": [
  {
   "cell_type": "markdown",
   "id": "cb2fc5b8",
   "metadata": {},
   "source": [
    "### Summary of Logistic Regression\n",
    "\n",
    "Logistic regression is a statistical technique recommended for situations where the **dependent variable is dichotomous or binary** (e.g., 0 or 1). The independent (explanatory) variables can be either categorical or continuous. The method is used to **estimate the probability** of a specific event occurring.\n",
    "\n",
    "#### Characteristics\n",
    "* It seeks to estimate the probability that the dependent variable will take on a certain value, given the known values of other variables.\n",
    "* The final output of the analysis is always a value **contained within the interval of 0 to 1**.\n",
    "\n",
    "#### The Logistic Model\n",
    "The probability of an event (e.g., $Y=1$) is estimated directly using the logistic function, which has a characteristic \"S\" shape. The formula for a binary dependent variable $Y$ and a set of independent variables $X_p$ is:\n",
    "\n",
    "$$P(Y=1) = \\frac{1}{1 + e^{-g(x)}}$$\n",
    "\n",
    "Where $g(x)$ is a linear combination of the variables:\n",
    "$$g(x) = B_0 + B_1X_1 + \\dots + B_pX_p$$\n",
    "\n",
    "#### Model Coefficients\n",
    "* The coefficients ($B_0, B_1, \\dots B_p$) are estimated from the data using the **maximum likelihood method**. This method finds the combination of coefficients that maximizes the probability of the observed sample data having occurred.\n",
    "* As $g(x)$ approaches positive infinity, the probability $P(Y=1)$ approaches 1.\n",
    "* As $g(x)$ approaches negative infinity, the probability $P(Y=1)$ approaches 0.\n",
    "* The impact of a coefficient is on the odds ratio. A **positive coefficient increases** the probability of the event, while a **negative coefficient decreases** it.\n",
    "\n",
    "#### Logistic vs. Linear Regression\n",
    "* **Dependent Variable:** Logistic regression uses a categorical dependent variable, whereas linear regression uses a continuous one.\n",
    "* **Estimation Method:** Logistic regression uses the maximum likelihood method, while linear regression uses the method of least squares.\n",
    "\n",
    "#### Advantages and Applications\n",
    "* **Advantages:** It easily handles categorical independent variables, provides results in terms of probability, is well-suited for classifying individuals, requires few assumptions, and has a high degree of reliability.\n",
    "* **Applications:** It is used for risk forecasting (e.g., predicting taxpayer default), classification (e.g., solvent vs. insolvent companies), and determining which characteristics influence an outcome.\n",
    "\n",
    "#### Classification and Evaluation\n",
    "* To use the model for classification, a decision rule is set, typically a threshold of 0.5:\n",
    "    * If $P(Y=1) > 0.5$, classify as $Y=1$.\n",
    "    * If $P(Y=1) < 0.5$, classify as $Y=0$.\n",
    "* To get a good estimate of the model's classification efficiency, it is recommended to split the data sample into two parts: one part for **model estimation** and a second part to **test the classification efficiency** (a holdout sample)."
   ]
  },
  {
   "cell_type": "markdown",
   "id": "afd98795",
   "metadata": {},
   "source": [
    "### Summary of Logistic Regression Applications\n",
    "\n",
    "Logistic regression is a statistical technique particularly suited for analyzing dichotomous (binary) outcomes. Initially prominent in medical studies like coronary heart disease research, its application has expanded rapidly into fields such as econometrics, administration, education, and environmental science.\n",
    "\n",
    "This document highlights three key application domains:\n",
    "\n",
    "#### 1. Credit Management\n",
    "* **Context:** Financial institutions face **credit risk** – the possibility that borrowers may default on their loans. Managing this risk is crucial.\n",
    "* **Credit Scoring:** Logistic regression is the most widely used technique for building **credit scoring models**. These models use historical customer data (both qualitative and quantitative attributes like income, age, marital status, etc.) to predict the probability of a new applicant being a \"good\" or \"bad\" payer.\n",
    "* **Process:** Building a scoring model typically involves defining good/bad payers, collecting historical data, selecting a representative sample, preparing variables, and applying logistic regression to estimate the probability of being a good payer.\n",
    "* **Outcome:** The resulting model provides a probability score that supports the credit granting decision, helping to minimize potential losses from defaults. An example study showed factors like age, education, income, and credit limit influencing default probability.\n",
    "\n",
    "#### 2. Environmental Analysis\n",
    "* **Context:** Human activities like industry and agriculture significantly alter **land use and land cover**, leading to environmental changes such as climate change and biodiversity loss. Understanding these dynamics is essential.\n",
    "* **Modeling Land Use Change:** Logistic regression can model the transition between different land use types (e.g., forest to agriculture). The dependent variable is binary (representing the presence/absence of a specific land use, like agriculture), and independent variables can include climate data, population density, proximity to infrastructure (roads, cities), and topography.\n",
    "* **Outcome:** The model estimates the probability of land converting from one type to another, helping to identify the key drivers of these changes (e.g., proximity to roads, soil quality) and inform strategic environmental planning. An example focused on agricultural expansion in Brazil's Upper Paraguay Basin.\n",
    "\n",
    "#### 3. Neonatal Death Studies\n",
    "* **Context:** **Neonatal mortality** (death within the first 28 days of life) remains a significant global health issue, particularly in lower-income regions. Identifying risk factors is crucial for intervention.\n",
    "* **Risk Factor Analysis:** Logistic regression is an appropriate technique to analyze factors associated with neonatal death. The dependent variable is binary (death/survival). Independent variables include characteristics of the mother (age, education), pregnancy (prenatal care, gestation type), birth (birth weight, gestational age), and newborn (Apgar score).\n",
    "* **Outcome:** The model helps quantify the impact of various factors on the probability (or odds) of neonatal death. For instance, a study identified low birth weight and preterm birth as major risk factors, while higher Apgar scores were protective. This information aids in targeting public health interventions.\n",
    "\n",
    "In summary, logistic regression is a versatile tool used across various domains to model the probability of a binary outcome, whether for prediction (credit scoring), understanding causal factors (environmental change), or identifying risk (neonatal mortality)."
   ]
  }
 ],
 "metadata": {
  "language_info": {
   "name": "python"
  }
 },
 "nbformat": 4,
 "nbformat_minor": 5
}
